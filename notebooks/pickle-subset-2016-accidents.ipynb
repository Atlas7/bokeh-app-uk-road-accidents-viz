{
 "cells": [
  {
   "cell_type": "markdown",
   "metadata": {},
   "source": [
    "# Data Preparation\n",
    "\n",
    "Run this notebook to (1) parse CSV to a Pandas DataFrame, (2) pickle the DataFrame and store on disk, (3) create bounding boxes and store the pickled verison on disk.\n",
    "\n",
    "The pickled objects will be used by the Web Application.\n",
    "\n",
    "(Note: at some point we may want to consider to use Dask Dataframe all the way and bypass Pandas entirely. But for now let's keep things simple)."
   ]
  },
  {
   "cell_type": "code",
   "execution_count": 1,
   "metadata": {},
   "outputs": [],
   "source": [
    "import pandas as pd\n",
    "import pickle\n",
    "from scripts import utils"
   ]
  },
  {
   "cell_type": "code",
   "execution_count": 2,
   "metadata": {},
   "outputs": [],
   "source": [
    "df = pd.read_csv('../data/dftRoadSafety_Accidents_2016.csv', usecols=[\"Accident_Index\", \"Longitude\", \"Latitude\"])"
   ]
  },
  {
   "cell_type": "code",
   "execution_count": 3,
   "metadata": {},
   "outputs": [
    {
     "data": {
      "text/plain": [
       "(136621, 3)"
      ]
     },
     "execution_count": 3,
     "metadata": {},
     "output_type": "execute_result"
    }
   ],
   "source": [
    "df.shape"
   ]
  },
  {
   "cell_type": "code",
   "execution_count": 4,
   "metadata": {
    "scrolled": true
   },
   "outputs": [
    {
     "name": "stdout",
     "output_type": "stream",
     "text": [
      "<class 'pandas.core.frame.DataFrame'>\n",
      "RangeIndex: 136621 entries, 0 to 136620\n",
      "Data columns (total 3 columns):\n",
      "Accident_Index    136621 non-null object\n",
      "Longitude         136614 non-null float64\n",
      "Latitude          136614 non-null float64\n",
      "dtypes: float64(2), object(1)\n",
      "memory usage: 3.1+ MB\n"
     ]
    }
   ],
   "source": [
    "df.info()"
   ]
  },
  {
   "cell_type": "code",
   "execution_count": 5,
   "metadata": {},
   "outputs": [],
   "source": [
    "df=df.dropna()"
   ]
  },
  {
   "cell_type": "code",
   "execution_count": 6,
   "metadata": {},
   "outputs": [
    {
     "data": {
      "text/plain": [
       "(136614, 3)"
      ]
     },
     "execution_count": 6,
     "metadata": {},
     "output_type": "execute_result"
    }
   ],
   "source": [
    "df.shape"
   ]
  },
  {
   "cell_type": "code",
   "execution_count": 7,
   "metadata": {
    "scrolled": false
   },
   "outputs": [
    {
     "name": "stdout",
     "output_type": "stream",
     "text": [
      "<class 'pandas.core.frame.DataFrame'>\n",
      "Int64Index: 136614 entries, 0 to 136620\n",
      "Data columns (total 3 columns):\n",
      "Accident_Index    136614 non-null object\n",
      "Longitude         136614 non-null float64\n",
      "Latitude          136614 non-null float64\n",
      "dtypes: float64(2), object(1)\n",
      "memory usage: 4.2+ MB\n"
     ]
    }
   ],
   "source": [
    "df.info()"
   ]
  },
  {
   "cell_type": "code",
   "execution_count": 8,
   "metadata": {},
   "outputs": [
    {
     "data": {
      "text/plain": [
       "136614"
      ]
     },
     "execution_count": 8,
     "metadata": {},
     "output_type": "execute_result"
    }
   ],
   "source": [
    "# double check - just to make sure we don't have duplicate `Accident_Index`\n",
    "len(df[\"Accident_Index\"].unique())"
   ]
  },
  {
   "cell_type": "code",
   "execution_count": 9,
   "metadata": {},
   "outputs": [],
   "source": [
    "# add the Web Mercator `webm_x` and `web_y` columns from our Logitude and Latitude values\n",
    "df = utils.add_webm_xys(df)"
   ]
  },
  {
   "cell_type": "code",
   "execution_count": 10,
   "metadata": {
    "scrolled": true
   },
   "outputs": [
    {
     "data": {
      "text/html": [
       "<div>\n",
       "<style scoped>\n",
       "    .dataframe tbody tr th:only-of-type {\n",
       "        vertical-align: middle;\n",
       "    }\n",
       "\n",
       "    .dataframe tbody tr th {\n",
       "        vertical-align: top;\n",
       "    }\n",
       "\n",
       "    .dataframe thead th {\n",
       "        text-align: right;\n",
       "    }\n",
       "</style>\n",
       "<table border=\"1\" class=\"dataframe\">\n",
       "  <thead>\n",
       "    <tr style=\"text-align: right;\">\n",
       "      <th></th>\n",
       "      <th>Accident_Index</th>\n",
       "      <th>Longitude</th>\n",
       "      <th>Latitude</th>\n",
       "      <th>webm_x</th>\n",
       "      <th>webm_y</th>\n",
       "    </tr>\n",
       "  </thead>\n",
       "  <tbody>\n",
       "    <tr>\n",
       "      <th>0</th>\n",
       "      <td>2016010000005</td>\n",
       "      <td>-0.279323</td>\n",
       "      <td>51.584754</td>\n",
       "      <td>-31094.094127</td>\n",
       "      <td>6.725389e+06</td>\n",
       "    </tr>\n",
       "    <tr>\n",
       "      <th>1</th>\n",
       "      <td>2016010000006</td>\n",
       "      <td>0.184928</td>\n",
       "      <td>51.449595</td>\n",
       "      <td>20586.090793</td>\n",
       "      <td>6.701211e+06</td>\n",
       "    </tr>\n",
       "    <tr>\n",
       "      <th>2</th>\n",
       "      <td>2016010000008</td>\n",
       "      <td>-0.473837</td>\n",
       "      <td>51.543563</td>\n",
       "      <td>-52747.293559</td>\n",
       "      <td>6.718013e+06</td>\n",
       "    </tr>\n",
       "    <tr>\n",
       "      <th>3</th>\n",
       "      <td>2016010000016</td>\n",
       "      <td>-0.164442</td>\n",
       "      <td>51.404958</td>\n",
       "      <td>-18305.599705</td>\n",
       "      <td>6.693241e+06</td>\n",
       "    </tr>\n",
       "    <tr>\n",
       "      <th>4</th>\n",
       "      <td>2016010000018</td>\n",
       "      <td>-0.406580</td>\n",
       "      <td>51.483139</td>\n",
       "      <td>-45260.278567</td>\n",
       "      <td>6.707205e+06</td>\n",
       "    </tr>\n",
       "  </tbody>\n",
       "</table>\n",
       "</div>"
      ],
      "text/plain": [
       "  Accident_Index  Longitude   Latitude        webm_x        webm_y\n",
       "0  2016010000005  -0.279323  51.584754 -31094.094127  6.725389e+06\n",
       "1  2016010000006   0.184928  51.449595  20586.090793  6.701211e+06\n",
       "2  2016010000008  -0.473837  51.543563 -52747.293559  6.718013e+06\n",
       "3  2016010000016  -0.164442  51.404958 -18305.599705  6.693241e+06\n",
       "4  2016010000018  -0.406580  51.483139 -45260.278567  6.707205e+06"
      ]
     },
     "execution_count": 10,
     "metadata": {},
     "output_type": "execute_result"
    }
   ],
   "source": [
    "df.head()"
   ]
  },
  {
   "cell_type": "code",
   "execution_count": 11,
   "metadata": {},
   "outputs": [
    {
     "name": "stdout",
     "output_type": "stream",
     "text": [
      "<class 'pandas.core.frame.DataFrame'>\n",
      "Int64Index: 136614 entries, 0 to 136620\n",
      "Data columns (total 5 columns):\n",
      "Accident_Index    136614 non-null object\n",
      "Longitude         136614 non-null float64\n",
      "Latitude          136614 non-null float64\n",
      "webm_x            136614 non-null float64\n",
      "webm_y            136614 non-null float64\n",
      "dtypes: float64(4), object(1)\n",
      "memory usage: 6.3+ MB\n"
     ]
    }
   ],
   "source": [
    "df.info()"
   ]
  },
  {
   "cell_type": "code",
   "execution_count": 12,
   "metadata": {},
   "outputs": [],
   "source": [
    "# df.to_parquet(df, '/Users/johnny/repos/bokeh-app-uk-road-accidents-viz/data')\n",
    "df.to_pickle(\"../data/dftRoadSafety_Accidents_2016_tiny.pkl\")"
   ]
  },
  {
   "cell_type": "code",
   "execution_count": 13,
   "metadata": {},
   "outputs": [],
   "source": [
    "# check that we can import dataframe\n",
    "usecols = [\"Accident_Index\", \"Longitude\", \"Latitude\", \"webm_x\", \"webm_y\"]\n",
    "df2 = pd.read_pickle('../data/dftRoadSafety_Accidents_2016_tiny.pkl')[usecols]"
   ]
  },
  {
   "cell_type": "code",
   "execution_count": 14,
   "metadata": {
    "scrolled": true
   },
   "outputs": [
    {
     "name": "stdout",
     "output_type": "stream",
     "text": [
      "<class 'pandas.core.frame.DataFrame'>\n",
      "Int64Index: 136614 entries, 0 to 136620\n",
      "Data columns (total 5 columns):\n",
      "Accident_Index    136614 non-null object\n",
      "Longitude         136614 non-null float64\n",
      "Latitude          136614 non-null float64\n",
      "webm_x            136614 non-null float64\n",
      "webm_y            136614 non-null float64\n",
      "dtypes: float64(4), object(1)\n",
      "memory usage: 6.3+ MB\n"
     ]
    }
   ],
   "source": [
    "df2.info()"
   ]
  },
  {
   "cell_type": "markdown",
   "metadata": {},
   "source": [
    "Looks good!"
   ]
  },
  {
   "cell_type": "code",
   "execution_count": 15,
   "metadata": {},
   "outputs": [],
   "source": [
    "bboxes = {\n",
    "  \"gb\": ((-15.381, 7.251), (48.749, 61.502)),\n",
    "  \"gb_mainland\": ( (-12.129, 5.120), (49.710, 58.745)),\n",
    "  \"gb_long\": ((-8.745, 2.241), (48.749, 61.502)),\n",
    "  \"gb_wide\": ((-21.709, 15.293), (48.749, 61.502)),\n",
    "  \"london\": ((-0.643, 0.434), (51.200, 51.761)),\n",
    "  \"london_2\": ((-0.1696, 0.0130), (51.4546, 51.5519)),\n",
    "  \"london_3\": ((-0.1330, -0.0235), (51.4741, 51.5322)),  \n",
    "  \"manchester\": ((-3.049, -1.505), (52.975, 53.865))\n",
    "}"
   ]
  },
  {
   "cell_type": "code",
   "execution_count": 16,
   "metadata": {},
   "outputs": [],
   "source": [
    "with open('../data/bboxes.pkl', 'wb') as handle:\n",
    "    pickle.dump(bboxes, handle, protocol=pickle.HIGHEST_PROTOCOL)"
   ]
  },
  {
   "cell_type": "code",
   "execution_count": 18,
   "metadata": {},
   "outputs": [],
   "source": [
    "# check that we can import dict\n",
    "bboxes2 = pickle.load(open( \"../data/bboxes.pkl\", \"rb\" ) )"
   ]
  },
  {
   "cell_type": "code",
   "execution_count": 19,
   "metadata": {},
   "outputs": [
    {
     "data": {
      "text/plain": [
       "{'gb': ((-15.381, 7.251), (48.749, 61.502)),\n",
       " 'gb_long': ((-8.745, 2.241), (48.749, 61.502)),\n",
       " 'gb_mainland': ((-12.129, 5.12), (49.71, 58.745)),\n",
       " 'gb_wide': ((-21.709, 15.293), (48.749, 61.502)),\n",
       " 'london': ((-0.643, 0.434), (51.2, 51.761)),\n",
       " 'london_2': ((-0.1696, 0.013), (51.4546, 51.5519)),\n",
       " 'london_3': ((-0.133, -0.0235), (51.4741, 51.5322)),\n",
       " 'manchester': ((-3.049, -1.505), (52.975, 53.865))}"
      ]
     },
     "execution_count": 19,
     "metadata": {},
     "output_type": "execute_result"
    }
   ],
   "source": [
    "bboxes2"
   ]
  },
  {
   "cell_type": "code",
   "execution_count": 20,
   "metadata": {},
   "outputs": [
    {
     "data": {
      "text/plain": [
       "dict"
      ]
     },
     "execution_count": 20,
     "metadata": {},
     "output_type": "execute_result"
    }
   ],
   "source": [
    "type(bboxes2)"
   ]
  }
 ],
 "metadata": {
  "kernelspec": {
   "display_name": "Python 3",
   "language": "python",
   "name": "python3"
  },
  "language_info": {
   "codemirror_mode": {
    "name": "ipython",
    "version": 3
   },
   "file_extension": ".py",
   "mimetype": "text/x-python",
   "name": "python",
   "nbconvert_exporter": "python",
   "pygments_lexer": "ipython3",
   "version": "3.6.4"
  }
 },
 "nbformat": 4,
 "nbformat_minor": 2
}
